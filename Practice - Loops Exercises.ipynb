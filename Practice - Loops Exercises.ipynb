{
 "cells": [
  {
   "cell_type": "markdown",
   "metadata": {},
   "source": [
    "# Looping exercises\n",
    "\n",
    "https://www.w3resource.com/python-exercises/python-conditional-statements-and-loop-exercises.php"
   ]
  },
  {
   "cell_type": "code",
   "execution_count": 40,
   "metadata": {},
   "outputs": [
    {
     "name": "stdout",
     "output_type": "stream",
     "text": [
      "1505,1540,1575,1610,1645,1680,1715,1750,1785,1820,1855,1890,1925,1960,1995,2030,2065,2100,2135,2170,2205,2240,2275,2310,2345,2380,2415,2450,2485,2520,2555,2590,2625,2660,2695\n"
     ]
    }
   ],
   "source": [
    "l1=[] #Generates an empty list\n",
    "\n",
    "for i in range (1500,2700):\n",
    "    if (i%5==0) and (i%7==0):\n",
    "        l1.append(str(i))\n",
    "print(','.join(l1))\n"
   ]
  },
  {
   "cell_type": "code",
   "execution_count": 43,
   "metadata": {},
   "outputs": [
    {
     "name": "stdin",
     "output_type": "stream",
     "text": [
      "Input the  temperature you like to convert? (e.g., 45F, 102C etc.) :  25C\n"
     ]
    },
    {
     "name": "stdout",
     "output_type": "stream",
     "text": [
      "The temperature in Fahrenheit is 77 degrees.\n"
     ]
    }
   ],
   "source": [
    "temp = input(\"Input the  temperature you like to convert? (e.g., 45F, 102C etc.) : \")\n",
    "degree = int(temp[:-1]) #Assigns the integer value to degree\n",
    "i_convention = temp[-1] #Assigns the string character to determine if else path\n",
    "\n",
    "if i_convention.upper() == \"C\":\n",
    "    result = int(((9*degree)/5)+32)\n",
    "    o_convention = 'Fahrenheit'\n",
    "elif i_convention.upper() == \"F\":\n",
    "    result = int((5*(degree-32))/9)\n",
    "    o_convention = 'Celcius'\n",
    "else:\n",
    "    print('Please input the correct convention, e.g. F or C.')\n",
    "    quit()\n",
    "print(\"The temperature in\", o_convention, \"is\", result, \"degrees.\")"
   ]
  },
  {
   "cell_type": "code",
   "execution_count": 29,
   "metadata": {},
   "outputs": [
    {
     "name": "stdin",
     "output_type": "stream",
     "text": [
      "Please guess the number. 1\n"
     ]
    },
    {
     "name": "stdout",
     "output_type": "stream",
     "text": [
      "you suck!! The number was 1 . You guessed 1 .\n"
     ]
    }
   ],
   "source": [
    "import random\n",
    "x = random.randint(1,9)\n",
    "y = input('Please guess the number.')\n",
    "\n",
    "if (x==y):\n",
    "    print('Correct!')\n",
    "else:\n",
    "    print('you suck!! The number was', x, '. You guessed', y, '.')"
   ]
  },
  {
   "cell_type": "code",
   "execution_count": 44,
   "metadata": {},
   "outputs": [
    {
     "name": "stdin",
     "output_type": "stream",
     "text": [
      "Guess a number between 1 and 10 until you get it right :  1\n",
      "Guess a number between 1 and 10 until you get it right :  1\n",
      "Guess a number between 1 and 10 until you get it right :  1\n",
      "Guess a number between 1 and 10 until you get it right :  1\n",
      "Guess a number between 1 and 10 until you get it right :  1\n",
      "Guess a number between 1 and 10 until you get it right :  1\n",
      "Guess a number between 1 and 10 until you get it right :  1\n",
      "Guess a number between 1 and 10 until you get it right :  2\n",
      "Guess a number between 1 and 10 until you get it right :  3\n",
      "Guess a number between 1 and 10 until you get it right :  4\n",
      "Guess a number between 1 and 10 until you get it right :  5\n",
      "Guess a number between 1 and 10 until you get it right :  6\n",
      "Guess a number between 1 and 10 until you get it right :  7\n",
      "Guess a number between 1 and 10 until you get it right :  8\n"
     ]
    },
    {
     "name": "stdout",
     "output_type": "stream",
     "text": [
      "Well guessed!\n"
     ]
    }
   ],
   "source": [
    "import random\n",
    "target_num, guess_num = random.randint(1,10), 0\n",
    "while target_num != guess_num:\n",
    "    guess_num = int(input('Guess a number between 1 and 10 until you get it right : '))\n",
    "print('Well guessed!')"
   ]
  },
  {
   "cell_type": "markdown",
   "metadata": {},
   "source": [
    "<img src ='https://www.w3resource.com/w3r_images/python-conditional-exercise-3.png'>"
   ]
  },
  {
   "cell_type": "code",
   "execution_count": 2,
   "metadata": {},
   "outputs": [
    {
     "name": "stdout",
     "output_type": "stream",
     "text": [
      "\n",
      "* \n",
      "* * \n",
      "* * * \n",
      "* * * * \n",
      "* * * * * \n",
      "* * * * * * \n",
      "* * * * * * * \n",
      "* * * * * * * * \n",
      "* * * * * * * * * \n",
      "* * * * * * * * * * \n",
      "* * * * * * * * * \n",
      "* * * * * * * * \n",
      "* * * * * * * \n",
      "* * * * * * \n",
      "* * * * * \n",
      "* * * * \n",
      "* * * \n",
      "* * \n",
      "* \n"
     ]
    }
   ],
   "source": [
    "n = 10\n",
    "for i in range(n):\n",
    "    for j in range (i):\n",
    "        print('* ', end=\"\")\n",
    "    print('')\n",
    "\n",
    "for i in range(n,0,-1):\n",
    "    for j in range(i):\n",
    "        print('* ', end=\"\")\n",
    "    print('')"
   ]
  },
  {
   "cell_type": "code",
   "execution_count": 4,
   "metadata": {},
   "outputs": [
    {
     "data": {
      "text/plain": [
       "140732418204336"
      ]
     },
     "execution_count": 4,
     "metadata": {},
     "output_type": "execute_result"
    }
   ],
   "source": [
    "id(n)"
   ]
  },
  {
   "cell_type": "code",
   "execution_count": 11,
   "metadata": {},
   "outputs": [
    {
     "name": "stdout",
     "output_type": "stream",
     "text": [
      "[1, 2, 3]\n"
     ]
    },
    {
     "data": {
      "text/plain": [
       "[10, 11, 12, 13, 14, 15, 16, 17, 18, 19]"
      ]
     },
     "execution_count": 11,
     "metadata": {},
     "output_type": "execute_result"
    }
   ],
   "source": [
    "# Create a list in a loop\n",
    "\n",
    "L = []\n",
    "for i in range(1,4):\n",
    "    L.append(i)\n",
    "\n",
    "print(L)\n",
    "\n",
    "def append (min,max):\n",
    "    L = []\n",
    "    for i in range(min,max):\n",
    "        L.append(i)\n",
    "    return L\n",
    "\n",
    "append(10,20)"
   ]
  },
  {
   "cell_type": "code",
   "execution_count": null,
   "metadata": {},
   "outputs": [],
   "source": []
  },
  {
   "cell_type": "code",
   "execution_count": null,
   "metadata": {},
   "outputs": [],
   "source": []
  },
  {
   "cell_type": "code",
   "execution_count": null,
   "metadata": {},
   "outputs": [],
   "source": []
  }
 ],
 "metadata": {
  "kernelspec": {
   "display_name": "Python 3",
   "language": "python",
   "name": "python3"
  },
  "language_info": {
   "codemirror_mode": {
    "name": "ipython",
    "version": 3
   },
   "file_extension": ".py",
   "mimetype": "text/x-python",
   "name": "python",
   "nbconvert_exporter": "python",
   "pygments_lexer": "ipython3",
   "version": "3.7.6"
  }
 },
 "nbformat": 4,
 "nbformat_minor": 4
}
